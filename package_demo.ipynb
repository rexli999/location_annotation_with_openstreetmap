{
 "cells": [
  {
   "cell_type": "markdown",
   "id": "f0f1f366-71c8-40cc-b820-c2a6ff988f10",
   "metadata": {},
   "source": [
    "# Demonstration of semantic annotation"
   ]
  },
  {
   "cell_type": "code",
   "execution_count": 1,
   "id": "db64537c-4a5e-4997-b154-99929c9755c3",
   "metadata": {},
   "outputs": [],
   "source": [
    "from osm_annotation import geofabrik_database, semantic_annotation"
   ]
  },
  {
   "cell_type": "markdown",
   "id": "4c003079-f7c9-4e38-9bad-206e756d6b09",
   "metadata": {},
   "source": [
    "## Build a local OpenStreetMap(Geofabrik) database"
   ]
  },
  {
   "cell_type": "code",
   "execution_count": 2,
   "id": "b9dc8792-6d3f-4c8c-b790-3735d99b335c",
   "metadata": {},
   "outputs": [],
   "source": [
    "database_folder_path =  \"/work/mhealthresearchgroup/Geofabrik/\""
   ]
  },
  {
   "cell_type": "code",
   "execution_count": 4,
   "id": "9f81ab75-b6d1-4301-955f-cb348ffd3798",
   "metadata": {},
   "outputs": [],
   "source": [
    "geofabrik_database.build(database_folder_path)"
   ]
  },
  {
   "cell_type": "code",
   "execution_count": 5,
   "id": "5ba2b7f0-acba-4c63-a4b2-a6ebdd727a44",
   "metadata": {},
   "outputs": [],
   "source": [
    "semantic_annotator = semantic_annotation.SemanticAnnotator(database_folder_path)"
   ]
  },
  {
   "cell_type": "markdown",
   "id": "3160a4fe-8176-467a-957e-a0c153e99bad",
   "metadata": {},
   "source": [
    "\"\"\"\n",
    "The SemanticAnnotator class aims to annotate location data using geofabrik database created by geofabrik_database.py. \n",
    "\n",
    "There are three annotation methods:\n",
    "    Method 1. annotate_single_point(lat, lon): annotate single point with semantic labels from OpenStreetMap database.\n",
    "        - pro: return distances to all POI types \n",
    "        - con: time-consuming (~2 hours/query). Method 3 is recommended for batch of points. \n",
    "    Method 2. annotate_single_shape(lat_list, lon_list): annotate single shape (e.g., bounding box, polygon) with semantic labels from OpenStreetMap database. \n",
    "        - pro: most accurate method\n",
    "        - con: need a set of points define the query shape\n",
    "    Method 3. annotate_batch_points(dataframe, latitude_colname, longitude_colname): annotate a batch of points (usually centroids of places) with semantic labels from OpenStreetMap database.\n",
    "        - pro: fastest method. Fit for annotating many centroids of places simultaneously. \n",
    "        - con: just return the label of the nearest POI and the distance.   \n",
    "    \n",
    "This script uses the geodf and dist functions from the GPS2space package (https://gps2space.readthedocs.io/en/latest/).\n",
    "    \n",
    "\"\"\""
   ]
  },
  {
   "cell_type": "markdown",
   "id": "afdf941e-6494-4eb4-932a-78e6f7bf27ef",
   "metadata": {},
   "source": [
    "## Annotate location data with Point-of-interest tags"
   ]
  },
  {
   "cell_type": "markdown",
   "id": "668d9b52-9666-4423-ab77-b072008d0c6c",
   "metadata": {},
   "source": [
    "### Method 1: annotate a single point"
   ]
  },
  {
   "cell_type": "markdown",
   "id": "4173dec4-ad67-4b81-a539-c6769ee3d869",
   "metadata": {},
   "source": [
    "\"\"\"annotate single point with semantic labels from OpenStreetMap database.\n",
    "Match the nearest POI to the query point.\n",
    "\n",
    "Parameters:\n",
    "   lat (long): latitude of the query point, in degree\n",
    "   lon (long): longitude of the query point, in degree\n",
    "Returns:\n",
    "   a json file with\n",
    "        matched_labels: semantic label matched with the query point\n",
    "        min_distance: the distance from the query point to the matched POI, in meters\n",
    "        distances_to_pois: distance to other types of POIs\n",
    "\"\"\""
   ]
  },
  {
   "cell_type": "code",
   "execution_count": 8,
   "id": "ef2f5601-492f-453c-9b9b-7082a665ced5",
   "metadata": {},
   "outputs": [],
   "source": [
    "# coordinates of Fenway Park in Boston\n",
    "centroid_latitude = 42.34653831212525\n",
    "centroid_longitude = -71.09724395926423"
   ]
  },
  {
   "cell_type": "code",
   "execution_count": 8,
   "id": "cae32b1d-b8b7-4f0d-af39-6d127424098d",
   "metadata": {
    "collapsed": true,
    "jupyter": {
     "outputs_hidden": true
    },
    "tags": []
   },
   "outputs": [
    {
     "name": "stderr",
     "output_type": "stream",
     "text": [
      "100%|██████████| 5/5 [2:50:42<00:00, 2048.51s/it]\n"
     ]
    },
    {
     "data": {
      "text/plain": [
       "{'matched_labels': 'recreational;outdoor;pitch (polygon)',\n",
       " 'min_distance': 6.169761255410299,\n",
       " 'distances_to_pois': {'busines;busines;company (polygon)': 326501.593160387,\n",
       "  'busines;busines;convention_center (polygon)': 2682942.101031607,\n",
       "  'busines;busines;factory (polygon)': 3612.955363467255,\n",
       "  'busines;busines;industrial (polygon)': 486.88772114370636,\n",
       "  'busines;busines;office (polygon)': 932.2980449124797,\n",
       "  'commercial;food;bakery (point)': 738.1374807550822,\n",
       "  'commercial;food;bakery (polygon)': 928.5980506023864,\n",
       "  'commercial;food;beverage (point)': 309.4560856957147,\n",
       "  'commercial;food;beverage (polygon)': 2916.136263146877,\n",
       "  'commercial;food;cafe (point)': 144.24793650512296,\n",
       "  'commercial;food;cafe (polygon)': 947.7997197480698,\n",
       "  'commercial;food;dining_hall (polygon)': 6265.0338543036705,\n",
       "  'commercial;food;fast_food (point)': 79.80060752479443,\n",
       "  'commercial;food;fast_food (polygon)': 1491.0348538773333,\n",
       "  'commercial;food;food (polygon)': 301543.4250849768,\n",
       "  'commercial;food;restaurant (point)': 101.48453545852965,\n",
       "  'commercial;food;restaurant (polygon)': 105.09989746876303,\n",
       "  'commercial;leisure;bar (point)': 72.0271203643314,\n",
       "  'commercial;leisure;bar (polygon)': 103.14267141820186,\n",
       "  'commercial;leisure;casino (polygon)': 1676364.7272631384,\n",
       "  'commercial;leisure;cinema (point)': 418.372717082136,\n",
       "  'commercial;leisure;cinema (polygon)': 2541.368277964378,\n",
       "  'commercial;leisure;museum (point)': 598.7107279437843,\n",
       "  'commercial;leisure;museum (polygon)': 829.3046129936982,\n",
       "  'commercial;leisure;theatre (point)': 400.4067147649364,\n",
       "  'commercial;leisure;theatre (polygon)': 714.5861928541607,\n",
       "  'commercial;leisure;theme_park (point)': 5663.590253455737,\n",
       "  'commercial;leisure;theme_park (polygon)': 21165.639635964813,\n",
       "  'commercial;leisure;zoo (point)': 56034.562546310575,\n",
       "  'commercial;leisure;zoo (polygon)': 4684.321166854541,\n",
       "  'commercial;lifestyle;beauty_shop (point)': 286.80342783227115,\n",
       "  'commercial;lifestyle;beauty_shop (polygon)': 3028.0391911445377,\n",
       "  'commercial;lifestyle;car_wash (point)': 3156.9812738157507,\n",
       "  'commercial;lifestyle;car_wash (polygon)': 2174.9104836071333,\n",
       "  'commercial;lifestyle;hotel (point)': 279.33080092217716,\n",
       "  'commercial;lifestyle;hotel (polygon)': 136.64464368369013,\n",
       "  'commercial;lifestyle;laundry (point)': 387.25334234194554,\n",
       "  'commercial;lifestyle;laundry (polygon)': 3138.912335296452,\n",
       "  'commercial;lifestyle;recycling (point)': 192.41335479396116,\n",
       "  'commercial;lifestyle;recycling (polygon)': 7103.70851944799,\n",
       "  'commercial;lifestyle;self_storage (polygon)': 121640.16755271221,\n",
       "  'commercial;lifestyle;stadium (point)': 7745.795016708926,\n",
       "  'commercial;lifestyle;stadium (polygon)': 9.00166052716956,\n",
       "  'commercial;lifestyle;travel_agent (point)': 2485.8626244896823,\n",
       "  'commercial;lifestyle;travel_agent (polygon)': 15168.535028784978,\n",
       "  'commercial;lifestyle;veterinary (point)': 1071.22184874044,\n",
       "  'commercial;lifestyle;veterinary (polygon)': 2396.7427571684607,\n",
       "  'commercial;other;commercial (polygon)': 152.2466734621022,\n",
       "  'commercial;shopping;kiosk (point)': 203.1670346498336,\n",
       "  'commercial;shopping;kiosk (polygon)': 305.95939052919954,\n",
       "  'commercial;shopping;mall (point)': 265.55073869372694,\n",
       "  'commercial;shopping;mall (polygon)': 495.81801329737624,\n",
       "  'commercial;shopping;shop (point)': 99.69324718325788,\n",
       "  'commercial;shopping;shop (polygon)': 150.41890624852942,\n",
       "  'commercial;shopping;supermarket (point)': 237.3345827766579,\n",
       "  'commercial;shopping;supermarket (polygon)': 433.5444135237186,\n",
       "  'recreational;indoor;sports_centre (point)': 2403.7086557178122,\n",
       "  'recreational;indoor;sports_centre (polygon)': 985.1035943889959,\n",
       "  'recreational;indoor;swimming_pool (point)': 1377.1316425691614,\n",
       "  'recreational;indoor;swimming_pool (polygon)': 522.0565483737392,\n",
       "  'recreational;outdoor;attraction (point)': 177.5593993211091,\n",
       "  'recreational;outdoor;attraction (polygon)': 552.9177323596361,\n",
       "  'recreational;outdoor;bicycle_rental (point)': 207.6619942223401,\n",
       "  'recreational;outdoor;bicycle_rental (polygon)': 38523.37936838045,\n",
       "  'recreational;outdoor;camp_site (point)': 16654.796093402132,\n",
       "  'recreational;outdoor;camp_site (polygon)': 10694.992915347817,\n",
       "  'recreational;outdoor;country_club (polygon)': 51528.63968772835,\n",
       "  'recreational;outdoor;dog_park (point)': 471.9925280382831,\n",
       "  'recreational;outdoor;dog_park (polygon)': 1669.835812904262,\n",
       "  'recreational;outdoor;farm (point)': 28169.533340950864,\n",
       "  'recreational;outdoor;farm (polygon)': 3824.5526210300536,\n",
       "  'recreational;outdoor;golf_course (point)': 23736.54612478807,\n",
       "  'recreational;outdoor;golf_course (polygon)': 5160.140313301189,\n",
       "  'recreational;outdoor;graveyard (point)': 160262.96391246418,\n",
       "  'recreational;outdoor;graveyard (polygon)': 2080.1334299498876,\n",
       "  'recreational;outdoor;hunting_stand (point)': 18770.906691228396,\n",
       "  'recreational;outdoor;hunting_stand (polygon)': 48985.05178918891,\n",
       "  'recreational;outdoor;ice_rink (point)': 542.6008102537069,\n",
       "  'recreational;outdoor;ice_rink (polygon)': 2414.1214754940083,\n",
       "  'recreational;outdoor;nature (point)': 85.76432622970313,\n",
       "  'recreational;outdoor;nature (polygon)': 79.82898748003608,\n",
       "  'recreational;outdoor;park (point)': 377.5221681468911,\n",
       "  'recreational;outdoor;park (polygon)': 247.6610788961503,\n",
       "  'recreational;outdoor;picnic_site (point)': 5613.276131450842,\n",
       "  'recreational;outdoor;picnic_site (polygon)': 8251.86271867418,\n",
       "  'recreational;outdoor;pitch (point)': 1512.6371834829301,\n",
       "  'recreational;outdoor;pitch (polygon)': 6.169761255410299,\n",
       "  'recreational;outdoor;playground (point)': 1225.8532162788892,\n",
       "  'recreational;outdoor;playground (polygon)': 407.96322520984523,\n",
       "  'recreational;outdoor;shelter (point)': 1033.8302813166472,\n",
       "  'recreational;outdoor;shelter (polygon)': 297.03904118334964,\n",
       "  'recreational;outdoor;tourism (point)': 231.8105327631718,\n",
       "  'recreational;outdoor;tourism (polygon)': 2901.7360278673486,\n",
       "  'recreational;outdoor;track (point)': 4120.687115458656,\n",
       "  'recreational;outdoor;track (polygon)': 659.5352461153752,\n",
       "  'recreational;outdoor;viewpoint (point)': 1189.5856658405207,\n",
       "  'recreational;outdoor;viewpoint (polygon)': 3685.632102434212,\n",
       "  'recreational;outdoor;water (point)': 9577.605361993566,\n",
       "  'recreational;outdoor;water (polygon)': 450.534986440443,\n",
       "  'residential;building;building (polygon)': 96653.36882856154,\n",
       "  'residential;residential;apartment (polygon)': 162.78123993742392,\n",
       "  'residential;residential;dormitory (polygon)': 429.71540038484096,\n",
       "  'residential;residential;home (polygon)': 1175979.8008601412,\n",
       "  'residential;residential;house (polygon)': 413.2254956170245,\n",
       "  'residential;residential;residential (polygon)': 451.93543490417903,\n",
       "  'service;education;childcare (polygon)': 429083.7054321131,\n",
       "  'service;education;college (point)': 806.4652362249103,\n",
       "  'service;education;college (polygon)': 627.2854930070762,\n",
       "  'service;education;education (polygon)': 5060.338861649002,\n",
       "  'service;education;kindergarten (point)': 1776.5862243377549,\n",
       "  'service;education;kindergarten (polygon)': 1549.441557070026,\n",
       "  'service;education;library (point)': 278.87045205024754,\n",
       "  'service;education;library (polygon)': 721.9519703171321,\n",
       "  'service;education;preschool (polygon)': 2834834.474578032,\n",
       "  'service;education;school (point)': 337.02774215800537,\n",
       "  'service;education;school (polygon)': 185.1615996216271,\n",
       "  'service;education;university (point)': 942.2385128551429,\n",
       "  'service;education;university (polygon)': 316.6990350130697,\n",
       "  'service;finance;atm (point)': 790.6744997915102,\n",
       "  'service;finance;atm (polygon)': 3191.2836205892695,\n",
       "  'service;finance;bank (point)': 92.03878066400607,\n",
       "  'service;finance;bank (polygon)': 1540.0755063464846,\n",
       "  'service;finance;insurance (polygon)': 224119.70802305976,\n",
       "  'service;health;clinic (point)': 1380.0141344480157,\n",
       "  'service;health;clinic (polygon)': 322.39449696286067,\n",
       "  'service;health;dentist (point)': 820.8544699030846,\n",
       "  'service;health;dentist (polygon)': 4471.763546890582,\n",
       "  'service;health;doctor (point)': 825.3882878685946,\n",
       "  'service;health;doctor (polygon)': 1170.6015223748027,\n",
       "  'service;health;health (polygon)': 641134.3860648819,\n",
       "  'service;health;health_center (polygon)': 289086.1867804388,\n",
       "  'service;health;hospital (point)': 2274.9646484365035,\n",
       "  'service;health;hospital (polygon)': 975.3405611600649,\n",
       "  'service;health;medical (polygon)': 72115.21930282204,\n",
       "  'service;health;mental_health_clinic (polygon)': 1340964.924071271,\n",
       "  'service;health;nursing_home (point)': 42426.075824724845,\n",
       "  'service;health;nursing_home (polygon)': 5818.134434621532,\n",
       "  'service;health;pharmacy (point)': 316.8125137871192,\n",
       "  'service;health;pharmacy (polygon)': 2067.2901855631894,\n",
       "  'service;other;community_centre (point)': 1126.0988600378948,\n",
       "  'service;other;community_centre (polygon)': 451.37297388132583,\n",
       "  'service;other;fire_station (point)': 968.1963015678906,\n",
       "  'service;other;fire_station (polygon)': 966.3439603177505,\n",
       "  'service;other;government (point)': 1621.073073214123,\n",
       "  'service;other;government (polygon)': 2170.5977761002287,\n",
       "  'service;other;police (point)': 785.5707560140614,\n",
       "  'service;other;police (polygon)': 1481.1554202274212,\n",
       "  'service;other;post_office (point)': 245.86942634669364,\n",
       "  'service;other;post_office (polygon)': 2032.008059245691,\n",
       "  'service;other;prison (point)': 2730.0999290700192,\n",
       "  'service;other;prison (polygon)': 26790.017670632355,\n",
       "  'service;other;public_building (point)': 10305.517064633734,\n",
       "  'service;other;public_building (polygon)': 10833.04754369165,\n",
       "  'service;other;telephone (point)': 251.3515101752463,\n",
       "  'service;religion;religion (point)': 272.9554630822814,\n",
       "  'service;religion;religion (polygon)': 361.81092790278,\n",
       "  'service;transportation;airport (point)': 3642.724046654739,\n",
       "  'service;transportation;airport (polygon)': 1365.5812742374505,\n",
       "  'service;transportation;bus_station (point)': 141.12124806661538,\n",
       "  'service;transportation;bus_station (polygon)': 1302.097889940697,\n",
       "  'service;transportation;car_rental (point)': 659.5640897755667,\n",
       "  'service;transportation;car_rental (polygon)': 1163.6815516393333,\n",
       "  'service;transportation;ferry_terminal (point)': 3858.0955494592645,\n",
       "  'service;transportation;ferry_terminal (polygon)': 4444.334037327684,\n",
       "  'service;transportation;fuel (point)': 229.79304465064476,\n",
       "  'service;transportation;fuel (polygon)': 195.00126906250864,\n",
       "  'service;transportation;parking (point)': 218.87155750010365,\n",
       "  'service;transportation;parking (polygon)': 97.50564514729214,\n",
       "  'service;transportation;parking_bicycle (point)': 297.68343954309313,\n",
       "  'service;transportation;parking_bicycle (polygon)': 824.7431960856314,\n",
       "  'service;transportation;taxi (point)': 1819.26409435054,\n",
       "  'service;transportation;taxi (polygon)': 7346.513681580349,\n",
       "  'service;transportation;train_station (point)': 220.70049089080976,\n",
       "  'service;transportation;train_station (polygon)': 834.3152328619799,\n",
       "  'service;transportation;transportation (polygon)': 2025.1246912099216}}"
      ]
     },
     "execution_count": 8,
     "metadata": {},
     "output_type": "execute_result"
    }
   ],
   "source": [
    "semantic_annotator.annotate_single_point(centroid_latitude, centroid_longitude)"
   ]
  },
  {
   "cell_type": "markdown",
   "id": "8ffd3c30-2b41-4d35-b237-ffbf54f339b2",
   "metadata": {},
   "source": [
    "### Method 2: annotate a single shape"
   ]
  },
  {
   "cell_type": "markdown",
   "id": "861ef16f-d4a6-4d91-bbcf-375e8cbabe09",
   "metadata": {},
   "source": [
    "\"\"\"annotate single shape with semantic labels from OpenStreetMap database.\n",
    "The shape can be of any geometric shape that can be described with a list of latitude and longitude.\n",
    "    e.g., a bound box, a polygon\n",
    "Match with the label of the point POI (OSM POI represented by a point) within the query shape\n",
    "    and with the label of the polygon POI (OSM POI represented by a polygon) intersected with the query shape.\n",
    "\n",
    "Parameters:\n",
    "   lat_list (long): a list of latitudes of the query shape, in degree\n",
    "   lon_list (long): a list of longitudes of the query shape, in degree\n",
    "Returns:\n",
    "   a json file with\n",
    "        matched_labels: semantic labels matched with the query shape\n",
    "        point_labels: semantic labels of point POI matched with the query shape\n",
    "        poly_labels: semantic labels of polygon POI matched with the query shape\n",
    "        matched_geometries: geometries of POIs matched with the query shape\n",
    "\"\"\""
   ]
  },
  {
   "cell_type": "code",
   "execution_count": 9,
   "id": "792b9496-c2ea-45c7-aa3b-ec32daa6e2f3",
   "metadata": {},
   "outputs": [],
   "source": [
    "# bounding box (NW corner,NE corner, SE corner, SW corner) of Museum of Fine Arts in Boston\n",
    "lat_list = [42.33969558839377, 42.34039653732734, 42.339235761638996, 42.33847311473655]\n",
    "lon_list = [-71.09563225696323, -71.09348529667446, -71.09270768730832, -71.0948470612041]"
   ]
  },
  {
   "cell_type": "code",
   "execution_count": 63,
   "id": "f8e00797-d73b-43d6-9ac9-1243ba22a06d",
   "metadata": {},
   "outputs": [
    {
     "name": "stderr",
     "output_type": "stream",
     "text": [
      "100%|██████████| 5/5 [33:23<00:00, 400.63s/it]\n"
     ]
    },
    {
     "data": {
      "text/plain": [
       "{'matched_labels': ['commercial;food;cafe (point)',\n",
       "  'commercial;shopping;shop (point)',\n",
       "  'commercial;leisure;museum (polygon)',\n",
       "  'service;transportation;parking (polygon)',\n",
       "  'recreational;outdoor;nature (polygon)'],\n",
       " 'point_labels': ['commercial;food;cafe (point)',\n",
       "  'commercial;shopping;shop (point)'],\n",
       " 'poly_labels': ['commercial;leisure;museum (polygon)',\n",
       "  'recreational;outdoor;nature (polygon)',\n",
       "  'service;transportation;parking (polygon)'],\n",
       " 'matched_geometries': [<shapely.geometry.point.Point at 0x2b8b25338410>,\n",
       "  <shapely.geometry.polygon.Polygon at 0x2b8b25353b10>,\n",
       "  <shapely.geometry.point.Point at 0x2b8b253415d0>,\n",
       "  <shapely.geometry.polygon.Polygon at 0x2b8b250b0910>,\n",
       "  <shapely.geometry.polygon.Polygon at 0x2b8b25331690>]}"
      ]
     },
     "execution_count": 63,
     "metadata": {},
     "output_type": "execute_result"
    }
   ],
   "source": [
    "semantic_annotator.annotate_single_shape(lat_list, lon_list)"
   ]
  },
  {
   "cell_type": "markdown",
   "id": "3ba42cdf-5f6f-4704-960f-993f513db131",
   "metadata": {},
   "source": [
    "### Method 3: annotate batch of points"
   ]
  },
  {
   "cell_type": "markdown",
   "id": "d02f733f-a51b-4a7f-9827-6e00d4d9534e",
   "metadata": {},
   "source": [
    "\"\"\"annotate a batch of points (usually centroids of places) with semantic labels from OpenStreetMap database.\n",
    "The batch of points should be stored in a panda dataframe with columns of latitude and longitude.\n",
    "Match the nearest POI to each query point.\n",
    "\n",
    "Parameters:\n",
    "    a dataframe with\n",
    "        lat_list (long): a list of latitudes of the query shape, in degree\n",
    "        lon_list (long): a list of longitudes of the query shape, in degree\n",
    "Returns:\n",
    "   a dataframe with\n",
    "        matched_labels: semantic labels matched with the query points\n",
    "        min_distance: the distance from the query point to the matched POI, in meters\n",
    "\"\"\""
   ]
  },
  {
   "cell_type": "code",
   "execution_count": 12,
   "id": "f4a24ff3-acb1-434f-b852-9e2fda5722e4",
   "metadata": {},
   "outputs": [],
   "source": [
    "import warnings\n",
    "warnings.filterwarnings(\"ignore\")"
   ]
  },
  {
   "cell_type": "code",
   "execution_count": 12,
   "id": "c5b46030-0147-4354-97b4-3f3279eb99a0",
   "metadata": {},
   "outputs": [],
   "source": [
    "# library, cafe, gym, and train station around the Northeastern University campus\n",
    "locations = [[42.33833,-71.08795], # library\n",
    "             [42.33909,-71.08758], # cafe\n",
    "             [42.34033,-71.09038], # gym\n",
    "             [42.33661, -71.08944]] # train station\n",
    "location_dataframe = pd.DataFrame(data = locations, columns = ['latitude', 'longitude'])"
   ]
  },
  {
   "cell_type": "code",
   "execution_count": 14,
   "id": "d3805ebe-3d5a-4408-89ea-414809f0de4c",
   "metadata": {},
   "outputs": [
    {
     "name": "stdout",
     "output_type": "stream",
     "text": [
      "   latitude  longitude\n",
      "0  42.33833  -71.08795\n",
      "1  42.33909  -71.08758\n",
      "2  42.34033  -71.09038\n",
      "3  42.33661  -71.08944\n"
     ]
    }
   ],
   "source": [
    "print(location_dataframe)"
   ]
  },
  {
   "cell_type": "code",
   "execution_count": 15,
   "id": "1c06f672-22d3-4822-b5ba-408e1d9d8d0a",
   "metadata": {},
   "outputs": [
    {
     "name": "stderr",
     "output_type": "stream",
     "text": [
      "100%|██████████| 5/5 [2:53:23<00:00, 2080.62s/it]\n"
     ]
    },
    {
     "data": {
      "text/html": [
       "<div>\n",
       "<style scoped>\n",
       "    .dataframe tbody tr th:only-of-type {\n",
       "        vertical-align: middle;\n",
       "    }\n",
       "\n",
       "    .dataframe tbody tr th {\n",
       "        vertical-align: top;\n",
       "    }\n",
       "\n",
       "    .dataframe thead th {\n",
       "        text-align: right;\n",
       "    }\n",
       "</style>\n",
       "<table border=\"1\" class=\"dataframe\">\n",
       "  <thead>\n",
       "    <tr style=\"text-align: right;\">\n",
       "      <th></th>\n",
       "      <th>latitude</th>\n",
       "      <th>longitude</th>\n",
       "      <th>geometry</th>\n",
       "      <th>matched_labels</th>\n",
       "      <th>min_distance</th>\n",
       "    </tr>\n",
       "  </thead>\n",
       "  <tbody>\n",
       "    <tr>\n",
       "      <th>0</th>\n",
       "      <td>42.33833</td>\n",
       "      <td>-71.08795</td>\n",
       "      <td>POINT (-71.08795 42.33833)</td>\n",
       "      <td>service;education;library (polygon)</td>\n",
       "      <td>5.761234</td>\n",
       "    </tr>\n",
       "    <tr>\n",
       "      <th>1</th>\n",
       "      <td>42.33909</td>\n",
       "      <td>-71.08758</td>\n",
       "      <td>POINT (-71.08758 42.33909)</td>\n",
       "      <td>commercial;food;fast_food (point)</td>\n",
       "      <td>1.928266</td>\n",
       "    </tr>\n",
       "    <tr>\n",
       "      <th>2</th>\n",
       "      <td>42.34033</td>\n",
       "      <td>-71.09038</td>\n",
       "      <td>POINT (-71.09038 42.34033)</td>\n",
       "      <td>service;education;university (polygon)</td>\n",
       "      <td>2.672806</td>\n",
       "    </tr>\n",
       "    <tr>\n",
       "      <th>3</th>\n",
       "      <td>42.33661</td>\n",
       "      <td>-71.08944</td>\n",
       "      <td>POINT (-71.08944 42.33661)</td>\n",
       "      <td>service;transportation;train_station (point)</td>\n",
       "      <td>5.179144</td>\n",
       "    </tr>\n",
       "  </tbody>\n",
       "</table>\n",
       "</div>"
      ],
      "text/plain": [
       "   latitude  longitude                    geometry  \\\n",
       "0  42.33833  -71.08795  POINT (-71.08795 42.33833)   \n",
       "1  42.33909  -71.08758  POINT (-71.08758 42.33909)   \n",
       "2  42.34033  -71.09038  POINT (-71.09038 42.34033)   \n",
       "3  42.33661  -71.08944  POINT (-71.08944 42.33661)   \n",
       "\n",
       "                                 matched_labels  min_distance  \n",
       "0           service;education;library (polygon)      5.761234  \n",
       "1             commercial;food;fast_food (point)      1.928266  \n",
       "2        service;education;university (polygon)      2.672806  \n",
       "3  service;transportation;train_station (point)      5.179144  "
      ]
     },
     "execution_count": 15,
     "metadata": {},
     "output_type": "execute_result"
    }
   ],
   "source": [
    "semantic_annotator.annotate_batch_points(dataframe = location_dataframe, latitude_colname = 'latitude', longitude_colname = 'longitude')"
   ]
  },
  {
   "cell_type": "code",
   "execution_count": null,
   "id": "895ed203-e4e8-437c-98d8-91477fb69a1f",
   "metadata": {},
   "outputs": [],
   "source": []
  },
  {
   "cell_type": "code",
   "execution_count": null,
   "id": "5ee04b53-7d95-4dab-a5f9-08e1dff3f009",
   "metadata": {},
   "outputs": [],
   "source": []
  }
 ],
 "metadata": {
  "kernelspec": {
   "display_name": "Python 3 (ipykernel)",
   "language": "python",
   "name": "python3"
  },
  "language_info": {
   "codemirror_mode": {
    "name": "ipython",
    "version": 3
   },
   "file_extension": ".py",
   "mimetype": "text/x-python",
   "name": "python",
   "nbconvert_exporter": "python",
   "pygments_lexer": "ipython3",
   "version": "3.7.13"
  }
 },
 "nbformat": 4,
 "nbformat_minor": 5
}
